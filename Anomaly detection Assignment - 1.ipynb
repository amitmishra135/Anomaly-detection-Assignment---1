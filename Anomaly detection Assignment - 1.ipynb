{
 "cells": [
  {
   "cell_type": "markdown",
   "id": "e03db450-0c62-4f01-9bf1-7f2ddb2203df",
   "metadata": {},
   "source": [
    "Q1. What is anomaly detection and what is its purpose?\n",
    "\n",
    "Answer ->"
   ]
  },
  {
   "cell_type": "markdown",
   "id": "a0a18225-033f-437b-9f5a-d46eaed867a1",
   "metadata": {},
   "source": [
    "Anomaly detection is the process of identifying unusual patterns or observations that do not conform to expected behavior in a dataset. \n",
    "Its purpose is to detect outliers, which can indicate critical incidents like fraud, network intrusions, equipment failures, or errors in data."
   ]
  },
  {
   "cell_type": "markdown",
   "id": "7c5d04e7-d76f-4657-b1f7-380ac27befd3",
   "metadata": {},
   "source": [
    "Q2. What are the key challenges in anomaly detection?\n",
    "\n",
    "Answer ->"
   ]
  },
  {
   "cell_type": "markdown",
   "id": "5c4c112d-4c93-44d5-a5b8-46805d6dc725",
   "metadata": {},
   "source": [
    "* Lack of labeled data: Often, labeled anomalies are scarce or unavailable.\n",
    "* Imbalanced data: Anomalies are typically much rarer than normal observations.\n",
    "* High dimensionality: Managing and analyzing data with many features can be complex.\n",
    "* Evolving data: Anomalies may change over time, requiring adaptive methods.\n",
    "* Noise: Distinguishing anomalies from noise can be difficult.\n"
   ]
  },
  {
   "cell_type": "markdown",
   "id": "ae35d7bf-b8d7-4aa9-8272-c86f22127b39",
   "metadata": {},
   "source": [
    "Q3. How does unsupervised anomaly detection differ from supervised anomaly detection?\n",
    "\n",
    "Answer ->"
   ]
  },
  {
   "cell_type": "markdown",
   "id": "313ea9c3-102e-43f8-bf47-5cd1d19d27f5",
   "metadata": {},
   "source": [
    "* Unsupervised Anomaly Detection: Does not require labeled training data. It identifies anomalies based on the inherent structure of the data.\n",
    "* Supervised Anomaly Detection: Requires labeled training data with known normal and anomaly classes. It learns to distinguish anomalies from normal \n",
    "observations based on the training data.\n"
   ]
  },
  {
   "cell_type": "markdown",
   "id": "593918ec-680d-4194-9fe5-a0337cb34f25",
   "metadata": {},
   "source": [
    "Q4. What are the main categories of anomaly detection algorithms?\n",
    "\n",
    "Answer ->"
   ]
  },
  {
   "cell_type": "markdown",
   "id": "7d5e647a-4c8a-47b7-a11b-32cd7e24d718",
   "metadata": {},
   "source": [
    "* Statistical Methods: Assume a probability distribution and identify anomalies as data points that have low probability.\n",
    "* Distance-based Methods: Use distance metrics to identify anomalies as points far from their neighbors.\n",
    "* Density-based Methods: Identify anomalies as points in low-density regions.\n",
    "* Clustering-based Methods: Treat points not belonging to any cluster or small clusters as anomalies.\n",
    "* Machine Learning Methods: Include supervised, unsupervised, and semi-supervised techniques like Isolation Forest, One-Class SVM, and neural networks.\n"
   ]
  },
  {
   "cell_type": "markdown",
   "id": "697b413f-50d3-4db7-b73c-76480bfe4bed",
   "metadata": {},
   "source": [
    "Q5. What are the main assumptions made by distance-based anomaly detection methods?\n",
    "\n",
    "Answer ->"
   ]
  },
  {
   "cell_type": "markdown",
   "id": "59782ec8-2b56-403c-b4cf-bceeb4a5f136",
   "metadata": {},
   "source": [
    "* Anomalies are data points that lie far from the majority of the data points.\n",
    "* Normal points are expected to be closer to each other than to anomalies.\n"
   ]
  },
  {
   "cell_type": "markdown",
   "id": "d0a029fa-b4c8-42cc-b12a-9636bb22d2ae",
   "metadata": {},
   "source": [
    "Q6. How does the LOF algorithm compute anomaly scores?\n",
    "\n",
    "Answer ->"
   ]
  },
  {
   "cell_type": "markdown",
   "id": "10986644-72be-48ad-a3db-667d47544d75",
   "metadata": {},
   "source": [
    "The Local Outlier Factor (LOF) algorithm computes anomaly scores by comparing the local density of a point to the local densities of its neighbors. \n",
    "The score indicates how much the point deviates from its neighborhood, with higher scores suggesting higher likelihood of being an anomaly.\n"
   ]
  },
  {
   "cell_type": "markdown",
   "id": "24a1fca0-d119-43e0-8609-79525f76bfa1",
   "metadata": {},
   "source": [
    "Q7. What are the key parameters of the Isolation Forest algorithm?\n",
    "\n",
    "Answer ->"
   ]
  },
  {
   "cell_type": "markdown",
   "id": "52805954-3358-4f36-855e-90a64e222659",
   "metadata": {},
   "source": [
    "* Number of Trees (n_estimators): The number of trees in the forest. More trees can improve performance but increase computational cost.\n",
    "* Subsampling Size (max_samples): The number of samples to draw to train each base estimator. Smaller samples can make anomalies easier to isolate.\n",
    "* Contamination: The proportion of outliers in the dataset, used to define the decision threshold.\n"
   ]
  },
  {
   "cell_type": "markdown",
   "id": "f4bee6f5-f8c7-400e-a3df-e27529aaf990",
   "metadata": {},
   "source": [
    "Q8. If a data point has only 2 neighbors of the same class within a radius of 0.5, what is its anomaly score using KNN with K=10?\n",
    "\n",
    "Answer ->"
   ]
  },
  {
   "cell_type": "markdown",
   "id": "1508509d-49d0-49e3-b643-ab00043659d4",
   "metadata": {},
   "source": [
    "If K=10, having only 2 neighbors of the same class within the specified radius indicates the data point is an outlier. The anomaly score would be high since\n",
    "it is not well-supported by neighbors within the K-nearest neighbors."
   ]
  },
  {
   "cell_type": "code",
   "execution_count": null,
   "id": "4b034d91-2d2b-4adf-ba4b-de08b8e5bfec",
   "metadata": {},
   "outputs": [],
   "source": []
  }
 ],
 "metadata": {
  "kernelspec": {
   "display_name": "Python 3 (ipykernel)",
   "language": "python",
   "name": "python3"
  },
  "language_info": {
   "codemirror_mode": {
    "name": "ipython",
    "version": 3
   },
   "file_extension": ".py",
   "mimetype": "text/x-python",
   "name": "python",
   "nbconvert_exporter": "python",
   "pygments_lexer": "ipython3",
   "version": "3.10.8"
  }
 },
 "nbformat": 4,
 "nbformat_minor": 5
}
